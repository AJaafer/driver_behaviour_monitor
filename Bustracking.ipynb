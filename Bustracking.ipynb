{
 "cells": [
  {
   "cell_type": "code",
   "execution_count": 80,
   "metadata": {
    "collapsed": true
   },
   "outputs": [],
   "source": [
    "import os\n",
    "import gmaps\n",
    "import gmaps.datasets\n",
    "import config\n",
    "import pandas as pd\n",
    "import numpy as np\n",
    "import time\n",
    "from pygeocoder import Geocoder\n",
    "# Try to move it to environement variables.\n",
    "gmaps.configure(api_key=config.key)"
   ]
  },
  {
   "cell_type": "markdown",
   "metadata": {},
   "source": [
    "# Read Data"
   ]
  },
  {
   "cell_type": "code",
   "execution_count": 7,
   "metadata": {},
   "outputs": [
    {
     "name": "stdout",
     "output_type": "stream",
     "text": [
      "   serial_no                id           time       long        lat\n",
      "0    3435081  01ef64e4dec54025  1500138559805 -75.987328  42.108504\n",
      "1    3435082  01ef64e4dec54025  1500138560805 -75.987328  42.108504\n",
      "2    3435083  01ef64e4dec54025  1500138561807 -75.987328  42.108504\n",
      "3    3435084  01ef64e4dec54025  1500138562810 -75.987328  42.108504\n",
      "4    3435085  01ef64e4dec54025  1500138563813 -75.987328  42.108504\n"
     ]
    }
   ],
   "source": [
    "location = pd.read_csv('data/Gps.csv',names=[\"serial_no\",\"id\",\"time\",\"long\",\"lat\"])\n",
    "print(location.head())"
   ]
  },
  {
   "cell_type": "code",
   "execution_count": 8,
   "metadata": {
    "collapsed": true
   },
   "outputs": [],
   "source": [
    "# GPS co-ordinates of the Garage.\n",
    "start_lat  = 42.107844 \n",
    "start_long = -75.987106"
   ]
  },
  {
   "cell_type": "code",
   "execution_count": 9,
   "metadata": {},
   "outputs": [
    {
     "name": "stdout",
     "output_type": "stream",
     "text": [
      "2017-07-15 13:09:19\n"
     ]
    }
   ],
   "source": [
    "def pretty_time(raw):\n",
    "    '''\n",
    "    Converts time in epoch(milli seconds) to readable format.\n",
    "    input: epoch time\n",
    "    output: returns string formatted time\n",
    "    '''\n",
    "    return (time.strftime('%Y-%m-%d %H:%M:%S', time.localtime(raw*.001)) )\n",
    "\n",
    "print(pretty_time(location['time'][0]))"
   ]
  },
  {
   "cell_type": "markdown",
   "metadata": {},
   "source": [
    "### We have 4 different buses data in the same file."
   ]
  },
  {
   "cell_type": "code",
   "execution_count": 10,
   "metadata": {},
   "outputs": [
    {
     "name": "stdout",
     "output_type": "stream",
     "text": [
      "0    01ef64e4dec54025\n",
      "1    023d6dfce95b3997\n",
      "2    024a0c2d305eb3cc\n",
      "3    025391f6de955621\n",
      "Name: id, dtype: object\n"
     ]
    }
   ],
   "source": [
    "bus_id = ( pd.DataFrame(location.groupby('id').count().reset_index()))\n",
    "bus_id = bus_id['id']\n",
    "print(bus_id)"
   ]
  },
  {
   "cell_type": "markdown",
   "metadata": {},
   "source": [
    "## Filtering the Data.\n",
    "* Removing rows which represent when the bus is parked in Garage"
   ]
  },
  {
   "cell_type": "code",
   "execution_count": 11,
   "metadata": {
    "collapsed": true
   },
   "outputs": [],
   "source": [
    "from math import radians, cos, sin, asin, sqrt\n",
    "\n",
    "def haversine(lon1, lat1, lon2, lat2):\n",
    "    \"\"\"\n",
    "    Calculate the great circle distance between two points \n",
    "    on the earth (specified in decimal degrees)\n",
    "    \"\"\"\n",
    "    # convert decimal degrees to radians \n",
    "    lon1, lat1, lon2, lat2 = map(radians, [lon1, lat1, lon2, lat2])\n",
    "\n",
    "    # haversine formula \n",
    "    dlon = lon2 - lon1 \n",
    "    dlat = lat2 - lat1 \n",
    "    a = sin(dlat/2)**2 + cos(lat1) * cos(lat2) * sin(dlon/2)**2\n",
    "    c = 2 * asin(sqrt(a)) \n",
    "    r = 6371 # Radius of earth in kilometers. Use 3956 for miles\n",
    "    return c * r"
   ]
  },
  {
   "cell_type": "code",
   "execution_count": 12,
   "metadata": {},
   "outputs": [
    {
     "name": "stdout",
     "output_type": "stream",
     "text": [
      "(353020, 6)\n"
     ]
    }
   ],
   "source": [
    "# Calculating distance from the garage.\n",
    "location['distance'] = location.apply(lambda row: haversine(start_long,start_lat,row.long,row.lat),axis=1 )\n",
    "print(location.shape)"
   ]
  },
  {
   "cell_type": "code",
   "execution_count": 55,
   "metadata": {},
   "outputs": [
    {
     "name": "stdout",
     "output_type": "stream",
     "text": [
      "(50890, 5)\n"
     ]
    }
   ],
   "source": [
    "# Removing locations at garage which are less than 0.2 km\n",
    "location = location.drop( location[location.distance < 0.2].index )\n",
    "location = location.drop(['serial_no'],axis=1)\n",
    "print(location.shape)"
   ]
  },
  {
   "cell_type": "markdown",
   "metadata": {},
   "source": [
    "### Categorizing different buses information."
   ]
  },
  {
   "cell_type": "code",
   "execution_count": 57,
   "metadata": {
    "collapsed": true
   },
   "outputs": [],
   "source": [
    "bus1 = location[location['id']==bus_id[0]]\n",
    "bus2 = location[location['id']==bus_id[1]]\n",
    "bus3 = location[location['id']==bus_id[2]]\n",
    "bus4 = location[location['id']==bus_id[3]]"
   ]
  },
  {
   "cell_type": "markdown",
   "metadata": {},
   "source": [
    "# Analyzing Routes and Heatmaps"
   ]
  },
  {
   "cell_type": "code",
   "execution_count": null,
   "metadata": {},
   "outputs": [],
   "source": [
    "# Only one bus was runing during this time.\n",
    "route = bus4[ ['lat','long']].head(10000)\n",
    "print(route)"
   ]
  },
  {
   "cell_type": "code",
   "execution_count": 62,
   "metadata": {},
   "outputs": [
    {
     "data": {
      "application/vnd.jupyter.widget-view+json": {
       "model_id": "70ca9aa8bc194c8f9efd957d578ea979"
      }
     },
     "metadata": {},
     "output_type": "display_data"
    }
   ],
   "source": [
    "fig = gmaps.figure()\n",
    "route_layer = gmaps.symbol_layer(route, fill_color=\"green\", stroke_color=\"red\", scale=1)\n",
    "fig.add_layer(route_layer)\n",
    "fig"
   ]
  },
  {
   "cell_type": "code",
   "execution_count": 64,
   "metadata": {},
   "outputs": [
    {
     "data": {
      "application/vnd.jupyter.widget-view+json": {
       "model_id": "9923096efb4349a4bde4d2152608890d"
      }
     },
     "metadata": {},
     "output_type": "display_data"
    }
   ],
   "source": [
    "fig = gmaps.figure()\n",
    "heatmap_layer = gmaps.heatmap_layer(route)\n",
    "heatmap_layer.max_intensity = 100\n",
    "heatmap_layer.point_radius = 13\n",
    "fig.add_layer(heatmap_layer)\n",
    "fig"
   ]
  },
  {
   "cell_type": "code",
   "execution_count": 65,
   "metadata": {},
   "outputs": [
    {
     "name": "stdout",
     "output_type": "stream",
     "text": [
      "                     id           time       long        lat  distance\n",
      "17771  025391f6de955621  1500122642932 -75.988420  42.106331  0.200184\n",
      "17772  025391f6de955621  1500122643933 -75.988536  42.106281  0.210065\n",
      "17773  025391f6de955621  1500122644933 -75.988661  42.106238  0.219886\n",
      "17774  025391f6de955621  1500122645933 -75.988766  42.106183  0.229930\n",
      "17775  025391f6de955621  1500122646933 -75.988859  42.106131  0.239166\n"
     ]
    }
   ],
   "source": [
    "print(bus4.head())"
   ]
  },
  {
   "cell_type": "code",
   "execution_count": 73,
   "metadata": {},
   "outputs": [
    {
     "name": "stdout",
     "output_type": "stream",
     "text": [
      "0.2035773431035068\n"
     ]
    }
   ],
   "source": [
    "print(haversine(bus4.lat.iloc[0],bus4.long.iloc[0],bus4.lat.iloc[20],bus4.long.iloc[20]))"
   ]
  },
  {
   "cell_type": "code",
   "execution_count": 91,
   "metadata": {},
   "outputs": [
    {
     "ename": "GeocoderError",
     "evalue": "Error OVER_QUERY_LIMIT\nQuery: https://maps.google.com/maps/api/geocode/json?language=&region=&sensor=false&latlng=42.095621%2C-75.975528&bounds=",
     "output_type": "error",
     "traceback": [
      "\u001b[0;31m---------------------------------------------------------------------------\u001b[0m",
      "\u001b[0;31mGeocoderError\u001b[0m                             Traceback (most recent call last)",
      "\u001b[0;32m<ipython-input-91-83a4edf13c49>\u001b[0m in \u001b[0;36m<module>\u001b[0;34m()\u001b[0m\n\u001b[1;32m      3\u001b[0m     \u001b[0mtemp_lat\u001b[0m \u001b[0;34m=\u001b[0m \u001b[0mrow\u001b[0m\u001b[0;34m[\u001b[0m\u001b[0;34m'lat'\u001b[0m\u001b[0;34m]\u001b[0m\u001b[0;34m\u001b[0m\u001b[0m\n\u001b[1;32m      4\u001b[0m     \u001b[0mtemp_long\u001b[0m \u001b[0;34m=\u001b[0m \u001b[0mrow\u001b[0m\u001b[0;34m[\u001b[0m\u001b[0;34m'long'\u001b[0m\u001b[0;34m]\u001b[0m\u001b[0;34m\u001b[0m\u001b[0m\n\u001b[0;32m----> 5\u001b[0;31m     \u001b[0mresults\u001b[0m \u001b[0;34m=\u001b[0m \u001b[0mGeocoder\u001b[0m\u001b[0;34m.\u001b[0m\u001b[0mreverse_geocode\u001b[0m\u001b[0;34m(\u001b[0m\u001b[0mtemp_lat\u001b[0m\u001b[0;34m,\u001b[0m \u001b[0mtemp_long\u001b[0m\u001b[0;34m)\u001b[0m\u001b[0;34m\u001b[0m\u001b[0m\n\u001b[0m\u001b[1;32m      6\u001b[0m     \u001b[0mtemp_street\u001b[0m\u001b[0;34m=\u001b[0m\u001b[0;34m''\u001b[0m\u001b[0;34m\u001b[0m\u001b[0m\n\u001b[1;32m      7\u001b[0m     \u001b[0;32mif\u001b[0m\u001b[0;34m(\u001b[0m\u001b[0mresults\u001b[0m\u001b[0;34m.\u001b[0m\u001b[0mroute\u001b[0m\u001b[0;34m!=\u001b[0m \u001b[0mtemp_street\u001b[0m\u001b[0;34m)\u001b[0m\u001b[0;34m:\u001b[0m\u001b[0;34m\u001b[0m\u001b[0m\n",
      "\u001b[0;32m/Library/Frameworks/Python.framework/Versions/3.5/lib/python3.5/site-packages/pygeocoder.py\u001b[0m in \u001b[0;36mreverse_geocode\u001b[0;34m(self, lat, lng, sensor, bounds, region, language)\u001b[0m\n\u001b[1;32m    163\u001b[0m             \u001b[0;32mreturn\u001b[0m \u001b[0mGeocoderResult\u001b[0m\u001b[0;34m(\u001b[0m\u001b[0mself\u001b[0m\u001b[0;34m.\u001b[0m\u001b[0mget_data\u001b[0m\u001b[0;34m(\u001b[0m\u001b[0mparams\u001b[0m\u001b[0;34m=\u001b[0m\u001b[0mparams\u001b[0m\u001b[0;34m)\u001b[0m\u001b[0;34m)\u001b[0m\u001b[0;34m\u001b[0m\u001b[0m\n\u001b[1;32m    164\u001b[0m         \u001b[0;32melse\u001b[0m\u001b[0;34m:\u001b[0m\u001b[0;34m\u001b[0m\u001b[0m\n\u001b[0;32m--> 165\u001b[0;31m             \u001b[0;32mreturn\u001b[0m \u001b[0mGeocoderResult\u001b[0m\u001b[0;34m(\u001b[0m\u001b[0mGeocoder\u001b[0m\u001b[0;34m.\u001b[0m\u001b[0mget_data\u001b[0m\u001b[0;34m(\u001b[0m\u001b[0mparams\u001b[0m\u001b[0;34m=\u001b[0m\u001b[0mparams\u001b[0m\u001b[0;34m)\u001b[0m\u001b[0;34m)\u001b[0m\u001b[0;34m\u001b[0m\u001b[0m\n\u001b[0m\u001b[1;32m    166\u001b[0m \u001b[0;34m\u001b[0m\u001b[0m\n\u001b[1;32m    167\u001b[0m     \u001b[0;32mdef\u001b[0m \u001b[0mset_proxy\u001b[0m\u001b[0;34m(\u001b[0m\u001b[0mself\u001b[0m\u001b[0;34m,\u001b[0m \u001b[0mproxy\u001b[0m\u001b[0;34m)\u001b[0m\u001b[0;34m:\u001b[0m\u001b[0;34m\u001b[0m\u001b[0m\n",
      "\u001b[0;32m/Library/Frameworks/Python.framework/Versions/3.5/lib/python3.5/site-packages/pygeocoder.py\u001b[0m in \u001b[0;36mget_data\u001b[0;34m(self, params)\u001b[0m\n\u001b[1;32m    210\u001b[0m \u001b[0;34m\u001b[0m\u001b[0m\n\u001b[1;32m    211\u001b[0m         \u001b[0;32mif\u001b[0m \u001b[0mresponse_json\u001b[0m\u001b[0;34m[\u001b[0m\u001b[0;34m'status'\u001b[0m\u001b[0;34m]\u001b[0m \u001b[0;34m!=\u001b[0m \u001b[0mGeocoderError\u001b[0m\u001b[0;34m.\u001b[0m\u001b[0mG_GEO_OK\u001b[0m\u001b[0;34m:\u001b[0m\u001b[0;34m\u001b[0m\u001b[0m\n\u001b[0;32m--> 212\u001b[0;31m             \u001b[0;32mraise\u001b[0m \u001b[0mGeocoderError\u001b[0m\u001b[0;34m(\u001b[0m\u001b[0mresponse_json\u001b[0m\u001b[0;34m[\u001b[0m\u001b[0;34m'status'\u001b[0m\u001b[0;34m]\u001b[0m\u001b[0;34m,\u001b[0m \u001b[0mresponse\u001b[0m\u001b[0;34m.\u001b[0m\u001b[0murl\u001b[0m\u001b[0;34m)\u001b[0m\u001b[0;34m\u001b[0m\u001b[0m\n\u001b[0m\u001b[1;32m    213\u001b[0m         \u001b[0;32mreturn\u001b[0m \u001b[0mresponse_json\u001b[0m\u001b[0;34m[\u001b[0m\u001b[0;34m'results'\u001b[0m\u001b[0;34m]\u001b[0m\u001b[0;34m\u001b[0m\u001b[0m\n\u001b[1;32m    214\u001b[0m \u001b[0;34m\u001b[0m\u001b[0m\n",
      "\u001b[0;31mGeocoderError\u001b[0m: Error OVER_QUERY_LIMIT\nQuery: https://maps.google.com/maps/api/geocode/json?language=&region=&sensor=false&latlng=42.095621%2C-75.975528&bounds="
     ]
    }
   ],
   "source": [
    "turn_markers=[]\n",
    "temp_street=''\n",
    "for index,row in bus4.iterrows():\n",
    "    temp_lat = row['lat']\n",
    "    temp_long = row['long']\n",
    "    results = Geocoder.reverse_geocode(temp_lat, temp_long)\n",
    "    if(results.route!= temp_street):\n",
    "        turn_markers.append([temp_lat,temp_long])\n",
    "    temp_street = results.route    \n",
    "    i=500\n",
    "    if(i<0):\n",
    "        break\n",
    "    i=i-1"
   ]
  },
  {
   "cell_type": "code",
   "execution_count": null,
   "metadata": {
    "collapsed": true
   },
   "outputs": [],
   "source": [
    "from pygeocoder import Geocoder\n",
    "results = Geocoder.reverse_geocode(df['latitude'][0], df['longitude'][0])"
   ]
  }
 ],
 "metadata": {
  "kernelspec": {
   "display_name": "Python 3",
   "language": "python",
   "name": "python3"
  },
  "language_info": {
   "codemirror_mode": {
    "name": "ipython",
    "version": 3
   },
   "file_extension": ".py",
   "mimetype": "text/x-python",
   "name": "python",
   "nbconvert_exporter": "python",
   "pygments_lexer": "ipython3",
   "version": "3.5.3"
  }
 },
 "nbformat": 4,
 "nbformat_minor": 2
}
